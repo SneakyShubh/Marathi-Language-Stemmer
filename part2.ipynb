{
 "cells": [
  {
   "cell_type": "markdown",
   "metadata": {},
   "source": [
    "Marathi Stemmer Implementation"
   ]
  },
  {
   "cell_type": "code",
   "execution_count": 1,
   "metadata": {},
   "outputs": [],
   "source": [
    "class MarathiStemmer:\n",
    "    def __init__(self):\n",
    "        self.suffixes = {\n",
    "            \"शया\": 5,\n",
    "            \"शे\": 4, \"शी\": 4, \"चा\": 4, \"ची\": 4, \"चे\": 4, \"हून\": 4,\n",
    "            \"नो\": 3, \"तो\": 3, \"ने\": 3, \"नी\": 3, \"ही\": 3, \"ते\": 3, \"या\": 3, \"ला\": 3, \"ना\": 3, \"ऊण\": 3,\n",
    "            \"े\": 2, \"ी\": 2, \"स\": 2, \"ल\": 2, \"म\": 2, \"त\": 2, \"ा\": 2\n",
    "        }\n",
    "        self.suffixe2 = {\n",
    "            \"ुरडा\": 5,\n",
    "            \"ढा\": 4,\n",
    "            \"रु\": 3, \"डे\": 3, \"ती\": 3, \"ान\": 3, \"ीण\": 3, \"डा\": 3, \"डी\": 3,\n",
    "            \"गा\": 3, \"ला\": 3, \"ळा\": 3, \"या\": 3, \"वा\": 3, \"ये\": 3, \"वे\": 3, \"ती\": 3,\n",
    "            \"ौ\": 2,\"ै\": 2, \"ा\": 2, \"ी\": 2, \"अ\": 2, \"े\": 2, \"ि\": 2, \"ु\": 2, \"ू\": 2,\n",
    "            \"त\": 2\n",
    "        }\n",
    "\n",
    "    def stem(self, word):\n",
    "        for suffix, length_condition in self.suffixes.items():\n",
    "            if word.endswith(suffix) and len(word) > length_condition:\n",
    "                word =  word[:-len(suffix)]\n",
    "                break\n",
    "        # print(word)\n",
    "        for suffix, length_condition in self.suffixe2.items():\n",
    "            if word.endswith(suffix) and len(word) > length_condition:\n",
    "                word =  word[:-len(suffix)]\n",
    "                break\n",
    "        return word\n",
    "\n",
    "marathi_stemmer = MarathiStemmer()\n",
    "\n"
   ]
  },
  {
   "cell_type": "markdown",
   "metadata": {},
   "source": [
    "Code For Reading all the files and their stemming\n",
    "Enter ur directory path for Execution in variable \"directory_path\"\n"
   ]
  },
  {
   "cell_type": "code",
   "execution_count": 2,
   "metadata": {},
   "outputs": [],
   "source": [
    "import os,re\n",
    "def extract_marathi_words(file_path):\n",
    "    marathi_words = []\n",
    "    marathi_unicode_range = r'\\u0900-\\u097F'\n",
    "    pattern = re.compile(f'[{marathi_unicode_range}]+')\n",
    "    with open(file_path, 'r', encoding='utf-8') as file:\n",
    "        for line in file:\n",
    "            words = pattern.findall(line)\n",
    "            marathi_words.extend(words)\n",
    "    return list(set(marathi_words))\n",
    "def stemming(marathi_words):\n",
    "    stem_words = []\n",
    "    for w in marathi_words:\n",
    "        stemmed_word = marathi_stemmer.stem(w)\n",
    "        stem_words.append(stemmed_word)\n",
    "    stem_words = list(set(stem_words))\n",
    "    return stem_words\n",
    "import os\n",
    "def read_files_in_directory(directory):\n",
    "    all_files = []\n",
    "    for foldername, subfolders, filenames in os.walk(directory):\n",
    "        for filename in filenames:\n",
    "            file_path = os.path.join(foldername, filename)\n",
    "            try:\n",
    "                all_files.extend(extract_marathi_words(file_path))\n",
    "            except Exception as e:\n",
    "                print(f\"Error reading file {file_path}: {e}\")\n",
    "    return all_files\n",
    "directory_path = 'C:/Users/HP/Downloads/marathia'\n",
    "all_files_content = read_files_in_directory(directory_path)\n",
    "all_files_content = list(set(all_files_content))\n",
    "stem_words = stemming(all_files_content)"
   ]
  },
  {
   "cell_type": "code",
   "execution_count": 5,
   "metadata": {},
   "outputs": [
    {
     "name": "stdout",
     "output_type": "stream",
     "text": [
      "Unique Words:  382857\n",
      "Stemmed Words:  274016\n"
     ]
    }
   ],
   "source": [
    "print(\"Unique Words: \",len(all_files_content))\n",
    "print(\"Stemmed Words: \",len(stem_words))"
   ]
  }
 ],
 "metadata": {
  "kernelspec": {
   "display_name": "Python 3",
   "language": "python",
   "name": "python3"
  },
  "language_info": {
   "codemirror_mode": {
    "name": "ipython",
    "version": 3
   },
   "file_extension": ".py",
   "mimetype": "text/x-python",
   "name": "python",
   "nbconvert_exporter": "python",
   "pygments_lexer": "ipython3",
   "version": "3.10.2"
  }
 },
 "nbformat": 4,
 "nbformat_minor": 2
}
